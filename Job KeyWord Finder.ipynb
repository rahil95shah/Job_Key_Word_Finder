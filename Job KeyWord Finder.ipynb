{
 "cells": [
  {
   "cell_type": "markdown",
   "metadata": {},
   "source": [
    "# JOB POSTING KEY WORDS FINDER\n",
    "\n",
    "## This program finds the keywords for the job posting. \n",
    "\n",
    "### If you are interested in Industry specific job posting, \n",
    "> #### 1. Set extract = \" \"\n",
    "> #### 2. In the file of Job Description, Enter job description of atleast 10 jobs (the more the better) \n",
    "\n",
    "### If you are interested in Technical or Soft skills key words for the job posting,\n",
    "> #### Enter \"tech\" for Technical and \"soft\" for Soft skills"
   ]
  },
  {
   "cell_type": "markdown",
   "metadata": {},
   "source": [
    "## • • • Enter Job Title here • • • "
   ]
  },
  {
   "cell_type": "code",
   "execution_count": 1,
   "metadata": {},
   "outputs": [],
   "source": [
    "JobTitle = 'Data Scientist'"
   ]
  },
  {
   "cell_type": "markdown",
   "metadata": {},
   "source": [
    "## • • • Enter the type of skills you want to extract • • • "
   ]
  },
  {
   "cell_type": "markdown",
   "metadata": {},
   "source": [
    "#### Enter \"tech\" for Technical and \"soft\" for Soft skills here"
   ]
  },
  {
   "cell_type": "code",
   "execution_count": 2,
   "metadata": {},
   "outputs": [],
   "source": [
    "extract = \"tech\"\n",
    "#extract = \"soft\"\n",
    "#extract = \" \""
   ]
  },
  {
   "cell_type": "markdown",
   "metadata": {},
   "source": [
    "## • • • This Section is for the job specific skills to add • • • \n",
    "\n",
    "For example, Here Skills are shown for the IT industry (Specifically, Data Science/Data Analyst positions)"
   ]
  },
  {
   "cell_type": "code",
   "execution_count": 3,
   "metadata": {},
   "outputs": [],
   "source": [
    "Popular_Job_Specific_Skills_tech = ['python', 'r', 'nlp', 'nltk' ,'pytorch', 'sql', 'ml', 'al', 'vision', 'cloud', 'scikit-learn', 'Tensorflow', 'software', 'machine', 'statistic', 'mathematics', 'algorithm', 'spark', 'java', 'tableau', 'database', 'hadoop', 'scala', 'hive', 'neural', 'deep', 'javascript', 'aws', 'scikit', 'bi', 'panda', 'excel', 'linux', 'pig', 'etl', 'matlab', 'nosql', 'agile', 's3', 'mysql', 'numpy', 'matplotlib', 'mongodb', 'azure', 'ec2', 'hive']\n",
    "\n",
    "Popular_Job_Specific_Skills_soft = ['storytelling', 'analysis', 'problem-solving', 'solving', 'thinking', 'initiative', 'detail', 'team', 'smart', 'communication', 'visualization']"
   ]
  },
  {
   "cell_type": "markdown",
   "metadata": {},
   "source": [
    "## • • • This Section is to scale specific skills from the Job_Specific_Skills parameter • • •\n",
    "\n",
    "### Must be integer\n",
    "\n",
    "### Try value between 1 to 4. Above it, will provide no proper result"
   ]
  },
  {
   "cell_type": "code",
   "execution_count": 4,
   "metadata": {},
   "outputs": [],
   "source": [
    "scaling_parameter = 3"
   ]
  },
  {
   "cell_type": "markdown",
   "metadata": {},
   "source": [
    "## Install library"
   ]
  },
  {
   "cell_type": "code",
   "execution_count": 5,
   "metadata": {},
   "outputs": [],
   "source": [
    "#!pip install NLTK\n",
    "#!pip install WordCloud"
   ]
  },
  {
   "cell_type": "markdown",
   "metadata": {},
   "source": [
    "### Importing Required Libraries"
   ]
  },
  {
   "cell_type": "code",
   "execution_count": 6,
   "metadata": {},
   "outputs": [],
   "source": [
    "import nltk\n",
    "import string\n",
    "import re\n",
    "from wordcloud import WordCloud\n",
    "import matplotlib.pyplot as plt"
   ]
  },
  {
   "cell_type": "markdown",
   "metadata": {},
   "source": [
    "### Read the Job Description"
   ]
  },
  {
   "cell_type": "code",
   "execution_count": 7,
   "metadata": {},
   "outputs": [],
   "source": [
    "with open(\"Job Description.txt\", 'r') as jobDes:  \n",
    "    rawdata = jobDes.read()"
   ]
  },
  {
   "cell_type": "markdown",
   "metadata": {},
   "source": [
    "## Converting all text to Lower case"
   ]
  },
  {
   "cell_type": "code",
   "execution_count": 8,
   "metadata": {},
   "outputs": [],
   "source": [
    "rawdata = rawdata.lower()\n",
    "#rawdata"
   ]
  },
  {
   "cell_type": "markdown",
   "metadata": {},
   "source": [
    "## Import Stopwords"
   ]
  },
  {
   "cell_type": "code",
   "execution_count": 9,
   "metadata": {},
   "outputs": [],
   "source": [
    "from nltk.corpus import stopwords\n",
    "stopwords = nltk.corpus.stopwords.words('english')\n"
   ]
  },
  {
   "cell_type": "markdown",
   "metadata": {},
   "source": [
    "### Adding Extra words stopwords (General Words, which have high frequency in job postings)"
   ]
  },
  {
   "cell_type": "code",
   "execution_count": 10,
   "metadata": {},
   "outputs": [],
   "source": [
    "stopwords = stopwords+[\"tools\",\"system\", \"skills\", \"work\", \"working\", \"analytic\", \"ability\", \"model\", \"plus\",\"technologies\", \"business\", \"etc\", \"advanced\", \"strong\",\"knowledge\"]"
   ]
  },
  {
   "cell_type": "markdown",
   "metadata": {},
   "source": [
    "## Token Generation Function"
   ]
  },
  {
   "cell_type": "code",
   "execution_count": 11,
   "metadata": {},
   "outputs": [],
   "source": [
    "def token(rawdata):\n",
    "    text = re.split('\\W+', rawdata)\n",
    "    return text"
   ]
  },
  {
   "cell_type": "markdown",
   "metadata": {},
   "source": [
    "## Remove Stopwords Function"
   ]
  },
  {
   "cell_type": "code",
   "execution_count": 12,
   "metadata": {},
   "outputs": [],
   "source": [
    "def clean_text(rawdata):\n",
    "    text = [word for word in rawdata if word not in stopwords]   # Remove stopwords\n",
    "    return text"
   ]
  },
  {
   "cell_type": "markdown",
   "metadata": {},
   "source": [
    "## Lemmatizer (Choosing the Root word based on dictionary) Function"
   ]
  },
  {
   "cell_type": "code",
   "execution_count": 13,
   "metadata": {},
   "outputs": [],
   "source": [
    "lemmatizer = nltk.WordNetLemmatizer()\n",
    "def lemmatize_text(text):\n",
    "    lemmatize_tex = [lemmatizer.lemmatize(word) for word in text]\n",
    "    return lemmatize_tex"
   ]
  },
  {
   "cell_type": "markdown",
   "metadata": {},
   "source": [
    "## Stemming (Choosing the simmilar word starting) Function\n"
   ]
  },
  {
   "cell_type": "code",
   "execution_count": 14,
   "metadata": {},
   "outputs": [],
   "source": [
    "ps = nltk.PorterStemmer()\n",
    "def stemming_text(text):\n",
    "    stemming_text = [ps.stem(word) for word in text]\n",
    "    return stemming_text"
   ]
  },
  {
   "cell_type": "markdown",
   "metadata": {},
   "source": [
    "## Job Specific **TECHNICAL SKILLS** Function"
   ]
  },
  {
   "cell_type": "code",
   "execution_count": 15,
   "metadata": {},
   "outputs": [],
   "source": [
    "def tech_skills(data):\n",
    "    temp_list = []\n",
    "    global Popular_Job_Specific_Skills_tech\n",
    "    global scaling_parameter\n",
    "    for word in rawdata:\n",
    "        if word in Popular_Job_Specific_Skills_tech:\n",
    "            #print(\"====\" + word)\n",
    "            temp_list.append(word)\n",
    "    temp_list = data + scaling_parameter * temp_list\n",
    "    return temp_list"
   ]
  },
  {
   "cell_type": "markdown",
   "metadata": {},
   "source": [
    "## Job Specific **SOFT SKILLS** Function"
   ]
  },
  {
   "cell_type": "code",
   "execution_count": 16,
   "metadata": {},
   "outputs": [],
   "source": [
    "def soft_skills(data):\n",
    "    temp_list = []\n",
    "    global Popular_Job_Specific_Skills_soft\n",
    "    global scaling_parameter\n",
    "    for word in rawdata:\n",
    "        if word in Popular_Job_Specific_Skills_soft:\n",
    "            #print(\"====\" + word)\n",
    "            temp_list.append(word)\n",
    "    temp_list = data + scaling_parameter * temp_list\n",
    "    return temp_list"
   ]
  },
  {
   "cell_type": "markdown",
   "metadata": {},
   "source": [
    "## Token Generate"
   ]
  },
  {
   "cell_type": "code",
   "execution_count": 17,
   "metadata": {},
   "outputs": [],
   "source": [
    "rawdata = token(rawdata)\n",
    "#rawdata"
   ]
  },
  {
   "cell_type": "markdown",
   "metadata": {},
   "source": [
    "## Extract Tech or Soft Skills, If required"
   ]
  },
  {
   "cell_type": "code",
   "execution_count": 18,
   "metadata": {},
   "outputs": [],
   "source": [
    "if (extract == 'soft'):\n",
    "    rawdata = soft_skills(rawdata)\n",
    "elif(extract == 'tech'):\n",
    "    rawdata = tech_skills(rawdata)        "
   ]
  },
  {
   "cell_type": "markdown",
   "metadata": {},
   "source": [
    "## Job title Weightage"
   ]
  },
  {
   "cell_type": "code",
   "execution_count": 19,
   "metadata": {},
   "outputs": [
    {
     "data": {
      "text/plain": [
       "['data', 'scientist']"
      ]
     },
     "execution_count": 19,
     "metadata": {},
     "output_type": "execute_result"
    }
   ],
   "source": [
    "rawdata_title = JobTitle.lower()\n",
    "rawdata_title = token(rawdata_title)\n",
    "rawdata_title"
   ]
  },
  {
   "cell_type": "markdown",
   "metadata": {},
   "source": [
    "### Giving Weightage of 2 words to Job Title "
   ]
  },
  {
   "cell_type": "code",
   "execution_count": 20,
   "metadata": {},
   "outputs": [],
   "source": [
    "rawdata = rawdata + rawdata_title\n",
    "rawdata = rawdata + rawdata_title"
   ]
  },
  {
   "cell_type": "code",
   "execution_count": 21,
   "metadata": {},
   "outputs": [
    {
     "data": {
      "text/plain": [
       "'!\"#$%&\\'()*+,-./:;<=>?@[\\\\]^_`{|}~'"
      ]
     },
     "execution_count": 21,
     "metadata": {},
     "output_type": "execute_result"
    }
   ],
   "source": [
    "import string\n",
    "string.punctuation"
   ]
  },
  {
   "cell_type": "code",
   "execution_count": 22,
   "metadata": {},
   "outputs": [],
   "source": [
    "clean_rawdata = clean_text(rawdata)"
   ]
  },
  {
   "cell_type": "markdown",
   "metadata": {},
   "source": [
    "### Call Stemmer (Not required for DATA or Software related jobs, as most of the words starts with simmilar letters)"
   ]
  },
  {
   "cell_type": "code",
   "execution_count": 23,
   "metadata": {},
   "outputs": [],
   "source": [
    "# st_data = stemming_text(clean_rawdata)\n",
    "# rawdata = st_data"
   ]
  },
  {
   "cell_type": "markdown",
   "metadata": {},
   "source": [
    "### Call Lemmetizer"
   ]
  },
  {
   "cell_type": "code",
   "execution_count": 24,
   "metadata": {},
   "outputs": [],
   "source": [
    "lm_data = lemmatize_text(clean_rawdata)\n",
    "rawdata = lm_data\n",
    "#rawdata"
   ]
  },
  {
   "cell_type": "markdown",
   "metadata": {},
   "source": [
    "## To Count the frequency of each word (For Refrence only)"
   ]
  },
  {
   "cell_type": "code",
   "execution_count": 25,
   "metadata": {},
   "outputs": [],
   "source": [
    "import pandas as pd\n",
    "df = pd.DataFrame(rawdata) \n",
    "list_of_words = df[0].value_counts()"
   ]
  },
  {
   "cell_type": "code",
   "execution_count": 26,
   "metadata": {},
   "outputs": [],
   "source": [
    "df = pd.DataFrame(list_of_words)"
   ]
  },
  {
   "cell_type": "code",
   "execution_count": 27,
   "metadata": {},
   "outputs": [
    {
     "name": "stdout",
     "output_type": "stream",
     "text": [
      "                 0\n",
      "data            17\n",
      "experience       9\n",
      "management       4\n",
      "r                4\n",
      "mathematics      4\n",
      "python           4\n",
      "matlab           4\n",
      "process          3\n",
      "multiple         3\n",
      "statistical      2\n",
      "source           2\n",
      "using            2\n",
      "level            2\n",
      "use              2\n",
      "practice         2\n",
      "integrity        2\n",
      "stakeholder      2\n",
      "scientist        2\n",
      "project          2\n",
      "sa               2\n",
      "analysis         2\n",
      "focus            2\n",
      "governance       2\n",
      "requirement      2\n",
      "quality          2\n",
      "complex          2\n",
      "science          2\n",
      "influence        1\n",
      "warehousing      1\n",
      "develop          1\n",
      "case             1\n",
      "title            1\n",
      "scienti          1\n",
      "solve            1\n",
      "quantitative     1\n",
      "industry         1\n",
      "example          1\n",
      "issue            1\n",
      "dynamic          1\n",
      "internet         1\n",
      "department       1\n",
      "supply           1\n",
      "job              1\n",
      "field            1\n",
      "identify         1\n",
      "similar          1\n",
      "m                1\n",
      "insight          1\n",
      "education        1\n",
      "recommend        1\n",
      "provide          1\n",
      "customer         1\n",
      "succeed          1\n",
      "exposure         1\n",
      "year             1\n",
      "final            1\n",
      "maximize         1\n",
      "minimum          1\n",
      "implement        1\n",
      "thing            1\n",
      "understanding    1\n",
      "computer         1\n",
      "written          1\n",
      "jmp              1\n",
      "implementation   1\n",
      "people           1\n",
      "extract          1\n",
      "environment      1\n",
      "story            1\n",
      "diverse          1\n",
      "technical        1\n",
      "output           1\n",
      "industrial       1\n",
      "biology          1\n",
      "platform         1\n",
      "3                1\n",
      "phd              1\n",
      "user             1\n",
      "oral             1\n",
      "internal         1\n",
      "promote          1\n",
      "lead             1\n",
      "robustness       1\n",
      "transform        1\n",
      "context          1\n",
      "concise          1\n",
      "mindset          1\n",
      "best             1\n",
      "statistica       1\n",
      "computational    1\n",
      "ensuring         1\n",
      "communication    1\n",
      "analytics        1\n",
      "intelligence     1\n",
      "dat              1\n",
      "method           1\n",
      "modeling         1\n",
      "yield            1\n",
      "communicate      1\n",
      "analytical       1\n",
      "analyze          1\n",
      "capture          1\n",
      "applied          1\n",
      "improved         1\n",
      "statistic        1\n",
      "operation        1\n",
      "proactive        1\n",
      "developing       1\n",
      "applying         1\n",
      "delivering       1\n",
      "group            1\n",
      "mathematical     1\n",
      "team             1\n",
      "visualization    1\n",
      "key              1\n",
      "accountability   1\n",
      "oriented         1\n",
      "potential        1\n",
      "research         1\n",
      "condition        1\n",
      "challenge        1\n",
      "algorithm        1\n",
      "enable           1\n",
      "deliver          1\n",
      "big              1\n",
      "maintained       1\n",
      "validation       1\n",
      "ecosystem        1\n",
      "clear            1\n",
      "partner          1\n",
      "opportunity      1\n",
      "predictable      1\n",
      "identification   1\n",
      "                 1\n"
     ]
    }
   ],
   "source": [
    "def print_full(x):\n",
    "    pd.set_option('display.max_rows', len(x))\n",
    "    print(x)\n",
    "    pd.reset_option('display.max_rows')\n",
    "\n",
    "print_full(df)\n"
   ]
  },
  {
   "cell_type": "markdown",
   "metadata": {},
   "source": [
    "## Detokenizer (To remove '' '' from the wordcloud plot)"
   ]
  },
  {
   "cell_type": "code",
   "execution_count": 28,
   "metadata": {},
   "outputs": [],
   "source": [
    "from nltk.tokenize.treebank import TreebankWordDetokenizer\n",
    "rawdata = TreebankWordDetokenizer().detokenize(rawdata)"
   ]
  },
  {
   "cell_type": "markdown",
   "metadata": {},
   "source": [
    "## WordCloud"
   ]
  },
  {
   "cell_type": "code",
   "execution_count": 29,
   "metadata": {},
   "outputs": [],
   "source": [
    "wordcloud = WordCloud(stopwords=stopwords, max_words=25, \\\n",
    "                      background_color=\"white\").generate(str(rawdata))\n"
   ]
  },
  {
   "cell_type": "code",
   "execution_count": 30,
   "metadata": {},
   "outputs": [
    {
     "data": {
      "image/png": "[encoded data removed]",
      "text/plain": [
       "<Figure size 432x288 with 1 Axes>"
      ]
     },
     "metadata": {
      "needs_background": "light"
     },
     "output_type": "display_data"
    },
    {
     "data": {
      "text/plain": [
       "<Figure size 1080x720 with 0 Axes>"
      ]
     },
     "metadata": {},
     "output_type": "display_data"
    }
   ],
   "source": [
    "plt.imshow(wordcloud)\n",
    "plt.axis(\"off\")\n",
    "plt.figure(figsize=(15,10))\n",
    "plt.show()"
   ]
  },
  {
   "cell_type": "markdown",
   "metadata": {},
   "source": [
    "## Still need to remove words?\n",
    "\n",
    "### • • • Enter here in the list • • • "
   ]
  },
  {
   "cell_type": "code",
   "execution_count": 31,
   "metadata": {},
   "outputs": [],
   "source": [
    "stopwords += [\"Enter the list here\"] "
   ]
  },
  {
   "cell_type": "code",
   "execution_count": 32,
   "metadata": {},
   "outputs": [
    {
     "data": {
      "image/png": "[encoded data removed]",
      "text/plain": [
       "<Figure size 432x288 with 1 Axes>"
      ]
     },
     "metadata": {
      "needs_background": "light"
     },
     "output_type": "display_data"
    },
    {
     "data": {
      "text/plain": [
       "<Figure size 1080x720 with 0 Axes>"
      ]
     },
     "metadata": {},
     "output_type": "display_data"
    }
   ],
   "source": [
    "wordcloud = WordCloud(stopwords=stopwords, max_words=10, \\\n",
    "                      background_color=\"white\").generate(rawdata)\n",
    "\n",
    "plt.imshow(wordcloud)\n",
    "plt.axis(\"off\")\n",
    "plt.figure(figsize=(15,10))\n",
    "plt.show()"
   ]
  },
  {
   "cell_type": "code",
   "execution_count": null,
   "metadata": {},
   "outputs": [],
   "source": []
  }
 ],
 "metadata": {
  "kernelspec": {
   "display_name": "Python 3",
   "language": "python",
   "name": "python3"
  },
  "language_info": {
   "codemirror_mode": {
    "name": "ipython",
    "version": 3
   },
   "file_extension": ".py",
   "mimetype": "text/x-python",
   "name": "python",
   "nbconvert_exporter": "python",
   "pygments_lexer": "ipython3",
   "version": "3.7.4"
  }
 },
 "nbformat": 4,
 "nbformat_minor": 2
}
